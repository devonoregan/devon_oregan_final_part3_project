{
 "cells": [
  {
   "cell_type": "markdown",
   "metadata": {},
   "source": [
    "# Final Project: Part 3 Scratch"
   ]
  },
  {
   "cell_type": "markdown",
   "metadata": {},
   "source": [
    "## Beer Consumption in Sao Paulo, Brazil"
   ]
  },
  {
   "cell_type": "markdown",
   "metadata": {},
   "source": [
    "## Problem Statement:"
   ]
  },
  {
   "cell_type": "markdown",
   "metadata": {},
   "source": [
    "Beer is the most consumed alcoholic beverahe in Brazil. Brazil is the third largest beer producer in the world. Brazil is also the third largest consumer of beer in the world, after China and the United States and just in front of Germany. \n",
    "\n",
    "Brazil entered a recession in 2014. The country started to recover in 2017, but corruption, the lack of public policies, and the economic crisis have led to an increase in poverty. However, beer sales may help to drive the economy. Therefore, the main goal of this exercise is to predict the consumption of beer in one of the country's most populous cities, Sao Paulo."
   ]
  },
  {
   "cell_type": "markdown",
   "metadata": {},
   "source": [
    "## Target Variable and Feature Columns:"
   ]
  },
  {
   "cell_type": "markdown",
   "metadata": {},
   "source": [
    "Target Variable: liters of beer consumed\n",
    "\n",
    "Feature columns: Average temperature, minimum temperature, maximum temperature, precipitation, weekend vs weekday"
   ]
  },
  {
   "cell_type": "markdown",
   "metadata": {},
   "source": [
    "## Goal and Sucess Metrics:"
   ]
  },
  {
   "cell_type": "markdown",
   "metadata": {},
   "source": [
    "The goal is to be able to predict the amount of beer consumption in Sao Paulo.\n",
    "\n",
    "The success metric is limited to the ability to predict the amount of beer consumed in Sao Paulo and whether there is a trend in the data based on the feature columns."
   ]
  },
  {
   "cell_type": "markdown",
   "metadata": {},
   "source": [
    "## Risks and Limitations:"
   ]
  },
  {
   "cell_type": "markdown",
   "metadata": {},
   "source": [
    "- There is no data for those under the drinking age (18).\n",
    "- The data is primarilly focused on an area with a university, where the maximum age is around 28.\n",
    "- The data is only based on one year (2015). The climate may have been more mild or more extreme than other years."
   ]
  },
  {
   "cell_type": "markdown",
   "metadata": {},
   "source": [
    "#### Source of the dataset: https://www.kaggle.com/dongeorge/beer-consumption-sao-paulo"
   ]
  },
  {
   "cell_type": "code",
   "execution_count": 1,
   "metadata": {},
   "outputs": [],
   "source": [
    "import matplotlib.pyplot as plt\n",
    "import numpy as np\n",
    "import seaborn as sns\n",
    "import pandas as pd\n",
    "\n",
    "plt.style.use('fivethirtyeight')"
   ]
  },
  {
   "cell_type": "code",
   "execution_count": 2,
   "metadata": {},
   "outputs": [],
   "source": [
    "%matplotlib inline"
   ]
  },
  {
   "cell_type": "markdown",
   "metadata": {},
   "source": [
    "#### Load the data"
   ]
  },
  {
   "cell_type": "code",
   "execution_count": 107,
   "metadata": {},
   "outputs": [],
   "source": [
    "# Convert commas to decimals\n",
    "beer_df = pd.read_csv('Consumo_cerveja.csv', decimal=',')"
   ]
  },
  {
   "cell_type": "code",
   "execution_count": 108,
   "metadata": {},
   "outputs": [
    {
     "data": {
      "text/html": [
       "<div>\n",
       "<style scoped>\n",
       "    .dataframe tbody tr th:only-of-type {\n",
       "        vertical-align: middle;\n",
       "    }\n",
       "\n",
       "    .dataframe tbody tr th {\n",
       "        vertical-align: top;\n",
       "    }\n",
       "\n",
       "    .dataframe thead th {\n",
       "        text-align: right;\n",
       "    }\n",
       "</style>\n",
       "<table border=\"1\" class=\"dataframe\">\n",
       "  <thead>\n",
       "    <tr style=\"text-align: right;\">\n",
       "      <th></th>\n",
       "      <th>Data</th>\n",
       "      <th>Temperatura Media (C)</th>\n",
       "      <th>Temperatura Minima (C)</th>\n",
       "      <th>Temperatura Maxima (C)</th>\n",
       "      <th>Precipitacao (mm)</th>\n",
       "      <th>Final de Semana</th>\n",
       "      <th>Consumo de cerveja (litros)</th>\n",
       "    </tr>\n",
       "  </thead>\n",
       "  <tbody>\n",
       "    <tr>\n",
       "      <th>0</th>\n",
       "      <td>1/1/15</td>\n",
       "      <td>27.30</td>\n",
       "      <td>23.9</td>\n",
       "      <td>32.5</td>\n",
       "      <td>0.0</td>\n",
       "      <td>0</td>\n",
       "      <td>25.461</td>\n",
       "    </tr>\n",
       "    <tr>\n",
       "      <th>1</th>\n",
       "      <td>1/2/15</td>\n",
       "      <td>27.02</td>\n",
       "      <td>24.5</td>\n",
       "      <td>33.5</td>\n",
       "      <td>0.0</td>\n",
       "      <td>0</td>\n",
       "      <td>28.972</td>\n",
       "    </tr>\n",
       "    <tr>\n",
       "      <th>2</th>\n",
       "      <td>1/3/15</td>\n",
       "      <td>24.82</td>\n",
       "      <td>22.4</td>\n",
       "      <td>29.9</td>\n",
       "      <td>0.0</td>\n",
       "      <td>1</td>\n",
       "      <td>30.814</td>\n",
       "    </tr>\n",
       "    <tr>\n",
       "      <th>3</th>\n",
       "      <td>1/4/15</td>\n",
       "      <td>23.98</td>\n",
       "      <td>21.5</td>\n",
       "      <td>28.6</td>\n",
       "      <td>1.2</td>\n",
       "      <td>1</td>\n",
       "      <td>29.799</td>\n",
       "    </tr>\n",
       "    <tr>\n",
       "      <th>4</th>\n",
       "      <td>1/5/15</td>\n",
       "      <td>23.82</td>\n",
       "      <td>21.0</td>\n",
       "      <td>28.3</td>\n",
       "      <td>0.0</td>\n",
       "      <td>0</td>\n",
       "      <td>28.9</td>\n",
       "    </tr>\n",
       "  </tbody>\n",
       "</table>\n",
       "</div>"
      ],
      "text/plain": [
       "     Data  Temperatura Media (C)  Temperatura Minima (C)  \\\n",
       "0  1/1/15                  27.30                    23.9   \n",
       "1  1/2/15                  27.02                    24.5   \n",
       "2  1/3/15                  24.82                    22.4   \n",
       "3  1/4/15                  23.98                    21.5   \n",
       "4  1/5/15                  23.82                    21.0   \n",
       "\n",
       "   Temperatura Maxima (C)  Precipitacao (mm)  Final de Semana  \\\n",
       "0                    32.5                0.0                0   \n",
       "1                    33.5                0.0                0   \n",
       "2                    29.9                0.0                1   \n",
       "3                    28.6                1.2                1   \n",
       "4                    28.3                0.0                0   \n",
       "\n",
       "  Consumo de cerveja (litros)  \n",
       "0                      25.461  \n",
       "1                      28.972  \n",
       "2                      30.814  \n",
       "3                      29.799  \n",
       "4                        28.9  "
      ]
     },
     "execution_count": 108,
     "metadata": {},
     "output_type": "execute_result"
    }
   ],
   "source": [
    "beer_df.head()"
   ]
  },
  {
   "cell_type": "code",
   "execution_count": 109,
   "metadata": {},
   "outputs": [],
   "source": [
    "# Translate column names to English\n",
    "beer_df.columns = ['Date', 'Average Temperature (C)', 'Minimum Temperature (C)', 'Maximum Temperature (C)', 'Precipitation (mm)', 'Weekend', 'Beer Consumption (liters)']"
   ]
  },
  {
   "cell_type": "code",
   "execution_count": 110,
   "metadata": {},
   "outputs": [
    {
     "data": {
      "text/html": [
       "<div>\n",
       "<style scoped>\n",
       "    .dataframe tbody tr th:only-of-type {\n",
       "        vertical-align: middle;\n",
       "    }\n",
       "\n",
       "    .dataframe tbody tr th {\n",
       "        vertical-align: top;\n",
       "    }\n",
       "\n",
       "    .dataframe thead th {\n",
       "        text-align: right;\n",
       "    }\n",
       "</style>\n",
       "<table border=\"1\" class=\"dataframe\">\n",
       "  <thead>\n",
       "    <tr style=\"text-align: right;\">\n",
       "      <th></th>\n",
       "      <th>Date</th>\n",
       "      <th>Average Temperature (C)</th>\n",
       "      <th>Minimum Temperature (C)</th>\n",
       "      <th>Maximum Temperature (C)</th>\n",
       "      <th>Precipitation (mm)</th>\n",
       "      <th>Weekend</th>\n",
       "      <th>Beer Consumption (liters)</th>\n",
       "    </tr>\n",
       "  </thead>\n",
       "  <tbody>\n",
       "    <tr>\n",
       "      <th>0</th>\n",
       "      <td>1/1/15</td>\n",
       "      <td>27.30</td>\n",
       "      <td>23.9</td>\n",
       "      <td>32.5</td>\n",
       "      <td>0.0</td>\n",
       "      <td>0</td>\n",
       "      <td>25.461</td>\n",
       "    </tr>\n",
       "    <tr>\n",
       "      <th>1</th>\n",
       "      <td>1/2/15</td>\n",
       "      <td>27.02</td>\n",
       "      <td>24.5</td>\n",
       "      <td>33.5</td>\n",
       "      <td>0.0</td>\n",
       "      <td>0</td>\n",
       "      <td>28.972</td>\n",
       "    </tr>\n",
       "    <tr>\n",
       "      <th>2</th>\n",
       "      <td>1/3/15</td>\n",
       "      <td>24.82</td>\n",
       "      <td>22.4</td>\n",
       "      <td>29.9</td>\n",
       "      <td>0.0</td>\n",
       "      <td>1</td>\n",
       "      <td>30.814</td>\n",
       "    </tr>\n",
       "    <tr>\n",
       "      <th>3</th>\n",
       "      <td>1/4/15</td>\n",
       "      <td>23.98</td>\n",
       "      <td>21.5</td>\n",
       "      <td>28.6</td>\n",
       "      <td>1.2</td>\n",
       "      <td>1</td>\n",
       "      <td>29.799</td>\n",
       "    </tr>\n",
       "    <tr>\n",
       "      <th>4</th>\n",
       "      <td>1/5/15</td>\n",
       "      <td>23.82</td>\n",
       "      <td>21.0</td>\n",
       "      <td>28.3</td>\n",
       "      <td>0.0</td>\n",
       "      <td>0</td>\n",
       "      <td>28.9</td>\n",
       "    </tr>\n",
       "  </tbody>\n",
       "</table>\n",
       "</div>"
      ],
      "text/plain": [
       "     Date  Average Temperature (C)  Minimum Temperature (C)  \\\n",
       "0  1/1/15                    27.30                     23.9   \n",
       "1  1/2/15                    27.02                     24.5   \n",
       "2  1/3/15                    24.82                     22.4   \n",
       "3  1/4/15                    23.98                     21.5   \n",
       "4  1/5/15                    23.82                     21.0   \n",
       "\n",
       "   Maximum Temperature (C)  Precipitation (mm)  Weekend  \\\n",
       "0                     32.5                 0.0        0   \n",
       "1                     33.5                 0.0        0   \n",
       "2                     29.9                 0.0        1   \n",
       "3                     28.6                 1.2        1   \n",
       "4                     28.3                 0.0        0   \n",
       "\n",
       "  Beer Consumption (liters)  \n",
       "0                    25.461  \n",
       "1                    28.972  \n",
       "2                    30.814  \n",
       "3                    29.799  \n",
       "4                      28.9  "
      ]
     },
     "execution_count": 110,
     "metadata": {},
     "output_type": "execute_result"
    }
   ],
   "source": [
    "# Look at new column names\n",
    "beer_df.head()"
   ]
  },
  {
   "cell_type": "code",
   "execution_count": 111,
   "metadata": {},
   "outputs": [
    {
     "data": {
      "text/plain": [
       "(365, 7)"
      ]
     },
     "execution_count": 111,
     "metadata": {},
     "output_type": "execute_result"
    }
   ],
   "source": [
    "# Check the shape\n",
    "beer_df.shape"
   ]
  },
  {
   "cell_type": "code",
   "execution_count": 112,
   "metadata": {},
   "outputs": [
    {
     "data": {
      "text/plain": [
       "Date                         0\n",
       "Average Temperature (C)      0\n",
       "Minimum Temperature (C)      0\n",
       "Maximum Temperature (C)      0\n",
       "Precipitation (mm)           0\n",
       "Weekend                      0\n",
       "Beer Consumption (liters)    0\n",
       "dtype: int64"
      ]
     },
     "execution_count": 112,
     "metadata": {},
     "output_type": "execute_result"
    }
   ],
   "source": [
    "# Check for null values\n",
    "beer_df.isna().sum()"
   ]
  },
  {
   "cell_type": "code",
   "execution_count": 113,
   "metadata": {},
   "outputs": [
    {
     "data": {
      "text/plain": [
       "Date                          object\n",
       "Average Temperature (C)      float64\n",
       "Minimum Temperature (C)      float64\n",
       "Maximum Temperature (C)      float64\n",
       "Precipitation (mm)           float64\n",
       "Weekend                        int64\n",
       "Beer Consumption (liters)     object\n",
       "dtype: object"
      ]
     },
     "execution_count": 113,
     "metadata": {},
     "output_type": "execute_result"
    }
   ],
   "source": [
    "# Check the data types\n",
    "beer_df.dtypes"
   ]
  },
  {
   "cell_type": "code",
   "execution_count": 114,
   "metadata": {},
   "outputs": [
    {
     "data": {
      "text/plain": [
       "Date                          object\n",
       "Average Temperature (C)      float64\n",
       "Minimum Temperature (C)      float64\n",
       "Maximum Temperature (C)      float64\n",
       "Precipitation (mm)           float64\n",
       "Weekend                        int64\n",
       "Beer Consumption (liters)    float64\n",
       "dtype: object"
      ]
     },
     "execution_count": 114,
     "metadata": {},
     "output_type": "execute_result"
    }
   ],
   "source": [
    "# Convert Beer Consumption data from object to float\n",
    "beer_df.loc[:, 'Beer Consumption (liters)'] = pd.to_numeric(beer_df.loc[:, 'Beer Consumption (liters)'])\n",
    "beer_df.dtypes"
   ]
  },
  {
   "cell_type": "code",
   "execution_count": 115,
   "metadata": {},
   "outputs": [
    {
     "name": "stdout",
     "output_type": "stream",
     "text": [
      "<class 'pandas.core.frame.DataFrame'>\n",
      "RangeIndex: 365 entries, 0 to 364\n",
      "Data columns (total 7 columns):\n",
      "Date                         365 non-null object\n",
      "Average Temperature (C)      365 non-null float64\n",
      "Minimum Temperature (C)      365 non-null float64\n",
      "Maximum Temperature (C)      365 non-null float64\n",
      "Precipitation (mm)           365 non-null float64\n",
      "Weekend                      365 non-null int64\n",
      "Beer Consumption (liters)    365 non-null float64\n",
      "dtypes: float64(5), int64(1), object(1)\n",
      "memory usage: 20.0+ KB\n"
     ]
    }
   ],
   "source": [
    "# Check columns\n",
    "beer_df.info()"
   ]
  },
  {
   "cell_type": "code",
   "execution_count": 116,
   "metadata": {},
   "outputs": [
    {
     "data": {
      "text/html": [
       "<div>\n",
       "<style scoped>\n",
       "    .dataframe tbody tr th:only-of-type {\n",
       "        vertical-align: middle;\n",
       "    }\n",
       "\n",
       "    .dataframe tbody tr th {\n",
       "        vertical-align: top;\n",
       "    }\n",
       "\n",
       "    .dataframe thead th {\n",
       "        text-align: right;\n",
       "    }\n",
       "</style>\n",
       "<table border=\"1\" class=\"dataframe\">\n",
       "  <thead>\n",
       "    <tr style=\"text-align: right;\">\n",
       "      <th></th>\n",
       "      <th>Average Temperature (C)</th>\n",
       "      <th>Minimum Temperature (C)</th>\n",
       "      <th>Maximum Temperature (C)</th>\n",
       "      <th>Precipitation (mm)</th>\n",
       "      <th>Weekend</th>\n",
       "      <th>Beer Consumption (liters)</th>\n",
       "    </tr>\n",
       "  </thead>\n",
       "  <tbody>\n",
       "    <tr>\n",
       "      <th>count</th>\n",
       "      <td>365.000000</td>\n",
       "      <td>365.000000</td>\n",
       "      <td>365.000000</td>\n",
       "      <td>365.000000</td>\n",
       "      <td>365.000000</td>\n",
       "      <td>365.000000</td>\n",
       "    </tr>\n",
       "    <tr>\n",
       "      <th>mean</th>\n",
       "      <td>21.226356</td>\n",
       "      <td>17.461370</td>\n",
       "      <td>26.611507</td>\n",
       "      <td>5.196712</td>\n",
       "      <td>0.284932</td>\n",
       "      <td>25.401367</td>\n",
       "    </tr>\n",
       "    <tr>\n",
       "      <th>std</th>\n",
       "      <td>3.180108</td>\n",
       "      <td>2.826185</td>\n",
       "      <td>4.317366</td>\n",
       "      <td>12.417844</td>\n",
       "      <td>0.452001</td>\n",
       "      <td>4.399143</td>\n",
       "    </tr>\n",
       "    <tr>\n",
       "      <th>min</th>\n",
       "      <td>12.900000</td>\n",
       "      <td>10.600000</td>\n",
       "      <td>14.500000</td>\n",
       "      <td>0.000000</td>\n",
       "      <td>0.000000</td>\n",
       "      <td>14.343000</td>\n",
       "    </tr>\n",
       "    <tr>\n",
       "      <th>25%</th>\n",
       "      <td>19.020000</td>\n",
       "      <td>15.300000</td>\n",
       "      <td>23.800000</td>\n",
       "      <td>0.000000</td>\n",
       "      <td>0.000000</td>\n",
       "      <td>22.008000</td>\n",
       "    </tr>\n",
       "    <tr>\n",
       "      <th>50%</th>\n",
       "      <td>21.380000</td>\n",
       "      <td>17.900000</td>\n",
       "      <td>26.900000</td>\n",
       "      <td>0.000000</td>\n",
       "      <td>0.000000</td>\n",
       "      <td>24.867000</td>\n",
       "    </tr>\n",
       "    <tr>\n",
       "      <th>75%</th>\n",
       "      <td>23.280000</td>\n",
       "      <td>19.600000</td>\n",
       "      <td>29.400000</td>\n",
       "      <td>3.200000</td>\n",
       "      <td>1.000000</td>\n",
       "      <td>28.631000</td>\n",
       "    </tr>\n",
       "    <tr>\n",
       "      <th>max</th>\n",
       "      <td>28.860000</td>\n",
       "      <td>24.500000</td>\n",
       "      <td>36.500000</td>\n",
       "      <td>94.800000</td>\n",
       "      <td>1.000000</td>\n",
       "      <td>37.937000</td>\n",
       "    </tr>\n",
       "  </tbody>\n",
       "</table>\n",
       "</div>"
      ],
      "text/plain": [
       "       Average Temperature (C)  Minimum Temperature (C)  \\\n",
       "count               365.000000               365.000000   \n",
       "mean                 21.226356                17.461370   \n",
       "std                   3.180108                 2.826185   \n",
       "min                  12.900000                10.600000   \n",
       "25%                  19.020000                15.300000   \n",
       "50%                  21.380000                17.900000   \n",
       "75%                  23.280000                19.600000   \n",
       "max                  28.860000                24.500000   \n",
       "\n",
       "       Maximum Temperature (C)  Precipitation (mm)     Weekend  \\\n",
       "count               365.000000          365.000000  365.000000   \n",
       "mean                 26.611507            5.196712    0.284932   \n",
       "std                   4.317366           12.417844    0.452001   \n",
       "min                  14.500000            0.000000    0.000000   \n",
       "25%                  23.800000            0.000000    0.000000   \n",
       "50%                  26.900000            0.000000    0.000000   \n",
       "75%                  29.400000            3.200000    1.000000   \n",
       "max                  36.500000           94.800000    1.000000   \n",
       "\n",
       "       Beer Consumption (liters)  \n",
       "count                 365.000000  \n",
       "mean                   25.401367  \n",
       "std                     4.399143  \n",
       "min                    14.343000  \n",
       "25%                    22.008000  \n",
       "50%                    24.867000  \n",
       "75%                    28.631000  \n",
       "max                    37.937000  "
      ]
     },
     "execution_count": 116,
     "metadata": {},
     "output_type": "execute_result"
    }
   ],
   "source": [
    "# Look at statistics\n",
    "beer_df.describe()"
   ]
  },
  {
   "cell_type": "code",
   "execution_count": 117,
   "metadata": {},
   "outputs": [],
   "source": [
    "# Add month as a feature column. Extract from the date\n",
    "\n",
    "beer_df['Month'] = pd.DatetimeIndex(beer_df['Date']).month"
   ]
  },
  {
   "cell_type": "markdown",
   "metadata": {},
   "source": [
    "### Model the data"
   ]
  },
  {
   "cell_type": "code",
   "execution_count": 118,
   "metadata": {},
   "outputs": [],
   "source": [
    "# Make column names simpler\n",
    "beer_df.columns = ['Date', 'Average_Temp', 'Min_Temp', 'Max_Temp', 'Precipitation', 'Weekend', 'Beer_Consumption', 'Month']"
   ]
  },
  {
   "cell_type": "code",
   "execution_count": 15,
   "metadata": {},
   "outputs": [
    {
     "data": {
      "image/png": "[encoded data removed]",
      "text/plain": [
       "<Figure size 1764x252 with 7 Axes>"
      ]
     },
     "metadata": {
      "needs_background": "light"
     },
     "output_type": "display_data"
    }
   ],
   "source": [
    "# Look at Beer Consumption against every other variable\n",
    "\n",
    "g = sns.pairplot(data=beer_df,\n",
    "                 x_vars=beer_df.drop('Beer_Consumption', axis='columns').columns,\n",
    "                 y_vars=['Beer_Consumption'],\n",
    "                 plot_kws={'alpha': .7},\n",
    "                 height=3.5,\n",
    "                )"
   ]
  },
  {
   "cell_type": "code",
   "execution_count": 81,
   "metadata": {},
   "outputs": [],
   "source": [
    "# Separate into target column and potential feature columns\n",
    "target_col = 'Beer_Consumption'\n",
    "feature_cols = ['Average_Temp', 'Min_Temp', 'Max_Temp', 'Precipitation', 'Weekend', 'Month']\n",
    "\n",
    "X = beer_df.loc[:, feature_cols]\n",
    "y = beer_df.loc[:, target_col]"
   ]
  },
  {
   "cell_type": "code",
   "execution_count": 82,
   "metadata": {},
   "outputs": [],
   "source": [
    "# Perform a train/test split\n",
    "from sklearn.model_selection import train_test_split\n",
    "\n",
    "X_train, X_test, y_train, y_test = train_test_split(X, y, random_state=1)"
   ]
  },
  {
   "cell_type": "code",
   "execution_count": 18,
   "metadata": {},
   "outputs": [],
   "source": [
    "# Import a model class (regression because the target variable is a number)\n",
    "from sklearn.linear_model import LinearRegression"
   ]
  },
  {
   "cell_type": "code",
   "execution_count": 19,
   "metadata": {},
   "outputs": [],
   "source": [
    "# Create a model from that class\n",
    "lr = LinearRegression()"
   ]
  },
  {
   "cell_type": "code",
   "execution_count": 20,
   "metadata": {},
   "outputs": [
    {
     "name": "stdout",
     "output_type": "stream",
     "text": [
      "R-squared value test set value: 0.7258189501042467\n",
      "RMSE value: 2.2737969930904356\n",
      "MAE value: 1.8910666914697545\n",
      "R-squared training set value: 0.7298793150812969\n"
     ]
    }
   ],
   "source": [
    "# Fit the model\n",
    "lr.fit(X_train, y_train)\n",
    "\n",
    "# Find R-Squared value\n",
    "print('R-squared value test set value:', lr.score(X_test, y_test))\n",
    "\n",
    "# Find RMSE value\n",
    "y_pred = lr.predict(X_test)\n",
    "from sklearn import metrics\n",
    "print('RMSE value:', np.sqrt(metrics.mean_squared_error(y_test, y_pred)))\n",
    "\n",
    "# Find MAE value\n",
    "print('MAE value:', metrics.mean_absolute_error(y_test, y_pred))\n",
    "\n",
    "# Compare R-squared value to training set\n",
    "print('R-squared training set value:', lr.score(X_train, y_train))"
   ]
  },
  {
   "cell_type": "code",
   "execution_count": 21,
   "metadata": {},
   "outputs": [
    {
     "name": "stdout",
     "output_type": "stream",
     "text": [
      "R-squared training set value: 0.949587490868008\n",
      "R-squared value test set value: 0.7055485281734641\n"
     ]
    }
   ],
   "source": [
    "# Try a random forest model\n",
    "\n",
    "from sklearn.ensemble import RandomForestRegressor\n",
    "\n",
    "rfr = RandomForestRegressor(n_estimators=200)\n",
    "rfr.fit(X_train, y_train)\n",
    "print('R-squared training set value:', rfr.score(X_train, y_train))\n",
    "print('R-squared value test set value:', rfr.score(X_test, y_test))"
   ]
  },
  {
   "cell_type": "markdown",
   "metadata": {},
   "source": [
    "The training set R^2 value is better but the test set R^2 value is worse. The model is overfitting. "
   ]
  },
  {
   "cell_type": "code",
   "execution_count": 22,
   "metadata": {},
   "outputs": [
    {
     "name": "stdout",
     "output_type": "stream",
     "text": [
      "R-squared training set value: 1.0\n",
      "R-squared value test set value: 0.39866764384877684\n"
     ]
    }
   ],
   "source": [
    "# Try a decision tree model\n",
    "\n",
    "from sklearn.tree import DecisionTreeRegressor\n",
    "\n",
    "dtr = DecisionTreeRegressor()\n",
    "dtr.fit(X_train, y_train)\n",
    "print('R-squared training set value:', dtr.score(X_train, y_train))\n",
    "print('R-squared value test set value:', dtr.score(X_test, y_test))"
   ]
  },
  {
   "cell_type": "markdown",
   "metadata": {},
   "source": [
    "The descision tree model is overfitting like the random forest model."
   ]
  },
  {
   "cell_type": "code",
   "execution_count": 83,
   "metadata": {},
   "outputs": [
    {
     "data": {
      "text/plain": [
       "(1.0, 0.39111693152529414)"
      ]
     },
     "execution_count": 83,
     "metadata": {},
     "output_type": "execute_result"
    }
   ],
   "source": [
    "# Try a decision tree model with GridSearchCV\n",
    "\n",
    "from sklearn.tree import DecisionTreeRegressor\n",
    "from sklearn.model_selection import GridSearchCV, KFold\n",
    "\n",
    "dtr = DecisionTreeRegressor()\n",
    "kf = KFold(n_splits=5, shuffle=True)\n",
    "\n",
    "grid = GridSearchCV(estimator=dtr,\n",
    "                    param_grid={},\n",
    "                    return_train_score=True,\n",
    "                    cv=kf,\n",
    "                    )\n",
    "grid.fit(X, y)\n",
    "grid.cv_results_['mean_train_score'][0], grid.cv_results_['mean_test_score'][0]"
   ]
  },
  {
   "cell_type": "markdown",
   "metadata": {},
   "source": [
    "The model has an even higher problem with varaince here. "
   ]
  },
  {
   "cell_type": "code",
   "execution_count": 84,
   "metadata": {},
   "outputs": [
    {
     "name": "stderr",
     "output_type": "stream",
     "text": [
      "/anaconda3/lib/python3.7/site-packages/sklearn/model_selection/_search.py:841: DeprecationWarning: The default of the `iid` parameter will change from True to False in version 0.22 and will be removed in 0.24. This will change numeric results when test-set sizes are unequal.\n",
      "  DeprecationWarning)\n"
     ]
    },
    {
     "data": {
      "text/plain": [
       "(1.0, 0.33416570351828545)"
      ]
     },
     "execution_count": 84,
     "metadata": {},
     "output_type": "execute_result"
    }
   ],
   "source": [
    "# Change n_splits\n",
    "\n",
    "dtr = DecisionTreeRegressor()\n",
    "kf = KFold(n_splits=10, shuffle=True)\n",
    "\n",
    "grid = GridSearchCV(estimator=dtr,\n",
    "                    param_grid={},\n",
    "                    return_train_score=True,\n",
    "                    cv=kf,\n",
    "                    )\n",
    "grid.fit(X, y)\n",
    "grid.cv_results_['mean_train_score'][0], grid.cv_results_['mean_test_score'][0]"
   ]
  },
  {
   "cell_type": "markdown",
   "metadata": {},
   "source": [
    "This does not help."
   ]
  },
  {
   "cell_type": "code",
   "execution_count": 86,
   "metadata": {},
   "outputs": [
    {
     "data": {
      "text/plain": [
       "(0.9506203574852659, 0.6251058089192557)"
      ]
     },
     "execution_count": 86,
     "metadata": {},
     "output_type": "execute_result"
    }
   ],
   "source": [
    "# Try a random forest model with GridSearchCV\n",
    "\n",
    "kf = KFold(5, shuffle=True, random_state=1)\n",
    "\n",
    "grid = GridSearchCV(estimator=RandomForestRegressor(n_estimators=100, random_state=1),\n",
    "                    param_grid={},\n",
    "                    cv=kf,\n",
    "                    return_train_score=True,\n",
    "                   )\n",
    "grid.fit(X, y)\n",
    "grid.cv_results_['mean_train_score'][0], grid.cv_results_['mean_test_score'][0]"
   ]
  },
  {
   "cell_type": "markdown",
   "metadata": {},
   "source": [
    "This is not any better than a random forest model without GridSearchCV."
   ]
  },
  {
   "cell_type": "code",
   "execution_count": 90,
   "metadata": {},
   "outputs": [
    {
     "data": {
      "text/plain": [
       "(0.7317184535102907, 0.7083476810954047)"
      ]
     },
     "execution_count": 90,
     "metadata": {},
     "output_type": "execute_result"
    }
   ],
   "source": [
    "# Try a linear model with GridSearchCV\n",
    "\n",
    "kf = KFold(5, shuffle=True, random_state=1)\n",
    "\n",
    "grid = GridSearchCV(estimator=LinearRegression(),\n",
    "                    param_grid={},\n",
    "                    cv=kf,\n",
    "                    return_train_score=True,\n",
    "                   )\n",
    "grid.fit(X, y)\n",
    "grid.cv_results_['mean_train_score'][0], grid.cv_results_['mean_test_score'][0]"
   ]
  },
  {
   "cell_type": "markdown",
   "metadata": {},
   "source": [
    "This does not help."
   ]
  },
  {
   "cell_type": "code",
   "execution_count": 26,
   "metadata": {},
   "outputs": [],
   "source": [
    "# Try removing min and max temp (since they are correlated with average temp)\n",
    "\n",
    "target_col = 'Beer_Consumption'\n",
    "feature_cols = ['Average_Temp', 'Precipitation', 'Weekend', 'Month']\n",
    "\n",
    "X = beer_df.loc[:, feature_cols]\n",
    "y = beer_df.loc[:, target_col]\n",
    "\n",
    "X_train, X_test, y_train, y_test = train_test_split(X, y, random_state=1)"
   ]
  },
  {
   "cell_type": "code",
   "execution_count": 27,
   "metadata": {},
   "outputs": [
    {
     "name": "stdout",
     "output_type": "stream",
     "text": [
      "R-squared value test set value: 0.7040270391853551\n",
      "R-squared training set value: 0.6597788210577638\n"
     ]
    }
   ],
   "source": [
    "lr = LinearRegression()\n",
    "\n",
    "lr.fit(X_train, y_train)\n",
    "\n",
    "# Find R-Squared value\n",
    "print('R-squared value test set value:', lr.score(X_test, y_test))\n",
    "\n",
    "# Compare R-squared value to training set\n",
    "print('R-squared training set value:', lr.score(X_train, y_train))"
   ]
  },
  {
   "cell_type": "code",
   "execution_count": 28,
   "metadata": {},
   "outputs": [
    {
     "name": "stdout",
     "output_type": "stream",
     "text": [
      "R-squared training set value: 0.9956391670746854\n",
      "R-squared value test set value: 0.3301808679991116\n"
     ]
    }
   ],
   "source": [
    "dtr = DecisionTreeRegressor()\n",
    "dtr.fit(X_train, y_train)\n",
    "print('R-squared training set value:', dtr.score(X_train, y_train))\n",
    "print('R-squared value test set value:', dtr.score(X_test, y_test))"
   ]
  },
  {
   "cell_type": "code",
   "execution_count": 29,
   "metadata": {},
   "outputs": [
    {
     "name": "stdout",
     "output_type": "stream",
     "text": [
      "R-squared training set value: 0.934719358094328\n",
      "R-squared value test set value: 0.6088803051635323\n"
     ]
    }
   ],
   "source": [
    "rfr = RandomForestRegressor(n_estimators=200)\n",
    "rfr.fit(X_train, y_train)\n",
    "print('R-squared training set value:', rfr.score(X_train, y_train))\n",
    "print('R-squared value test set value:', rfr.score(X_test, y_test))"
   ]
  },
  {
   "cell_type": "markdown",
   "metadata": {},
   "source": [
    "This is not better than the model with more feature columns."
   ]
  },
  {
   "cell_type": "code",
   "execution_count": 30,
   "metadata": {},
   "outputs": [
    {
     "name": "stdout",
     "output_type": "stream",
     "text": [
      "0.799125478188759\n",
      "-0.04566149913195106\n"
     ]
    }
   ],
   "source": [
    "# Try with Polynomial Features\n",
    "\n",
    "from sklearn.preprocessing import PolynomialFeatures\n",
    "target_col = 'Beer_Consumption'\n",
    "feature_cols = ['Average_Temp', 'Min_Temp', 'Max_Temp', 'Precipitation', 'Weekend', 'Month']\n",
    "\n",
    "X = beer_df.loc[:, feature_cols]\n",
    "y = beer_df.loc[:, target_col]\n",
    "\n",
    "pf = PolynomialFeatures(degree=3, include_bias=False)\n",
    "pf.fit(X)\n",
    "X1 = pf.transform(X)\n",
    "\n",
    "X_train, X_test, y_train, y_test = train_test_split(X1, y)\n",
    "\n",
    "lr1 = LinearRegression()\n",
    "lr1.fit(X_train, y_train)\n",
    "\n",
    "print(lr1.score(X_train, y_train))\n",
    "print(lr1.score(X_test, y_test))\n"
   ]
  },
  {
   "cell_type": "code",
   "execution_count": 31,
   "metadata": {},
   "outputs": [
    {
     "name": "stdout",
     "output_type": "stream",
     "text": [
      "R-squared training set value: 1.0\n",
      "R-squared value test set value: 0.5838542758025601\n"
     ]
    }
   ],
   "source": [
    "dtr = DecisionTreeRegressor()\n",
    "dtr.fit(X_train, y_train)\n",
    "print('R-squared training set value:', dtr.score(X_train, y_train))\n",
    "print('R-squared value test set value:', dtr.score(X_test, y_test))"
   ]
  },
  {
   "cell_type": "code",
   "execution_count": 32,
   "metadata": {},
   "outputs": [
    {
     "name": "stdout",
     "output_type": "stream",
     "text": [
      "R-squared training set value: 0.9494406225971593\n",
      "R-squared value test set value: 0.7209212605031816\n"
     ]
    }
   ],
   "source": [
    "rfr = RandomForestRegressor(n_estimators=200)\n",
    "rfr.fit(X_train, y_train)\n",
    "print('R-squared training set value:', rfr.score(X_train, y_train))\n",
    "print('R-squared value test set value:', rfr.score(X_test, y_test))"
   ]
  },
  {
   "cell_type": "code",
   "execution_count": 33,
   "metadata": {},
   "outputs": [
    {
     "data": {
      "text/plain": [
       "GridSearchCV(cv=KFold(n_splits=5, random_state=1, shuffle=True),\n",
       "       error_score='raise-deprecating',\n",
       "       estimator=RandomForestRegressor(bootstrap=True, criterion='mse', max_depth=None,\n",
       "           max_features='auto', max_leaf_nodes=None,\n",
       "           min_impurity_decrease=0.0, min_impurity_split=None,\n",
       "           min_samples_leaf=1, min_samples_split=2,\n",
       "           min_weight_fraction_leaf=0.0, n_estimators='warn', n_jobs=None,\n",
       "           oob_score=False, random_state=1, verbose=0, warm_start=False),\n",
       "       fit_params=None, iid='warn', n_jobs=None,\n",
       "       param_grid={'n_estimators': range(10, 701, 50)},\n",
       "       pre_dispatch='2*n_jobs', refit=True, return_train_score=True,\n",
       "       scoring=make_scorer(neg_rmse), verbose=0)"
      ]
     },
     "execution_count": 33,
     "metadata": {},
     "output_type": "execute_result"
    }
   ],
   "source": [
    "# Random forest regressor model looks to be the best model. Find the best number of estimators\n",
    "from sklearn.metrics.scorer import make_scorer\n",
    "\n",
    "def neg_rmse(y_true, y_pred):\n",
    "    mse = np.square(y_true - y_pred).mean()\n",
    "    return -np.sqrt(mse)\n",
    "\n",
    "neg_rmse = make_scorer(neg_rmse)\n",
    "\n",
    "target_col = 'Beer_Consumption'\n",
    "feature_cols = ['Average_Temp', 'Min_Temp', 'Max_Temp', 'Precipitation', 'Weekend', 'Month']\n",
    "\n",
    "X = beer_df.loc[:, feature_cols]\n",
    "y = beer_df.loc[:, target_col]\n",
    "\n",
    "X_train, X_test, y_train, y_test = train_test_split(X, y)\n",
    "\n",
    "n_estimators_range = range(10, 701, 50)\n",
    "\n",
    "kf = KFold(5, shuffle=True, random_state=1)\n",
    "grid = GridSearchCV(estimator=RandomForestRegressor(random_state=1),\n",
    "                    param_grid={'n_estimators': n_estimators_range},\n",
    "                    cv=kf,\n",
    "                    scoring=neg_rmse,\n",
    "                    return_train_score=True,\n",
    "                   )\n",
    "grid.fit(X, y)"
   ]
  },
  {
   "cell_type": "code",
   "execution_count": 34,
   "metadata": {},
   "outputs": [
    {
     "data": {
      "text/plain": [
       "10     13.513114\n",
       "60     13.249559\n",
       "110    13.115831\n",
       "160    13.010960\n",
       "210    12.954157\n",
       "260    12.952608\n",
       "310    12.941760\n",
       "360    12.952448\n",
       "410    12.944843\n",
       "460    12.948367\n",
       "510    12.955601\n",
       "560    12.953896\n",
       "610    12.946892\n",
       "660    12.946018\n",
       "dtype: float64"
      ]
     },
     "execution_count": 34,
     "metadata": {},
     "output_type": "execute_result"
    }
   ],
   "source": [
    "rmse_df = -pd.DataFrame(grid.cv_results_).loc[:, [f'split{i}_test_score' for i in range(5)]]\n",
    "scores = rmse_df.sum(axis='columns')\n",
    "scores.index = n_estimators_range\n",
    "scores"
   ]
  },
  {
   "cell_type": "code",
   "execution_count": 35,
   "metadata": {},
   "outputs": [
    {
     "data": {
      "image/png": "[encoded data removed]",
      "text/plain": [
       "<Figure size 432x288 with 1 Axes>"
      ]
     },
     "metadata": {
      "needs_background": "light"
     },
     "output_type": "display_data"
    }
   ],
   "source": [
    "# Plot RMSE vs n_estimators \n",
    "\n",
    "ax = scores.plot()\n",
    "ax.set_xlabel('n_estimators')\n",
    "ax.set_ylabel('RMSE (lower is better)');"
   ]
  },
  {
   "cell_type": "code",
   "execution_count": 36,
   "metadata": {},
   "outputs": [
    {
     "name": "stdout",
     "output_type": "stream",
     "text": [
      "R-squared training set value: 0.9497738623945822\n",
      "R-squared value test set value: 0.7178794862395514\n"
     ]
    }
   ],
   "source": [
    "# Use n_estimators = 310\n",
    "\n",
    "rfr = RandomForestRegressor(n_estimators=310)\n",
    "rfr.fit(X_train, y_train)\n",
    "print('R-squared training set value:', rfr.score(X_train, y_train))\n",
    "print('R-squared value test set value:', rfr.score(X_test, y_test))"
   ]
  },
  {
   "cell_type": "markdown",
   "metadata": {},
   "source": [
    "Optimizing n_estimators did not significantly change the score."
   ]
  },
  {
   "cell_type": "code",
   "execution_count": 37,
   "metadata": {},
   "outputs": [
    {
     "name": "stdout",
     "output_type": "stream",
     "text": [
      "R-squared training set value: 0.95231569640784\n",
      "R-squared value test set value: 0.6526314081783183\n"
     ]
    }
   ],
   "source": [
    "# Try with an interaction term\n",
    "\n",
    "target_col = 'Beer_Consumption'\n",
    "feature_cols = ['Average_Temp', 'Min_Temp', 'Max_Temp', 'Precipitation', 'Weekend', 'Month']\n",
    "\n",
    "X = beer_df.loc[:, feature_cols]\n",
    "y = beer_df.loc[:, target_col]\n",
    "\n",
    "kf = KFold(n_splits=5, shuffle=True)\n",
    "\n",
    "rfr_grid = GridSearchCV(RandomForestRegressor(n_estimators=310), param_grid={}, cv=kf, return_train_score=True)\n",
    "rfr_grid.fit(X, y)\n",
    "print('R-squared training set value:', rfr_grid.cv_results_['mean_train_score'][0])\n",
    "print('R-squared value test set value:', rfr_grid.cv_results_['mean_test_score'][0])"
   ]
  },
  {
   "cell_type": "code",
   "execution_count": 38,
   "metadata": {},
   "outputs": [
    {
     "name": "stdout",
     "output_type": "stream",
     "text": [
      "R-squared training set value: 0.9525793469054769\n",
      "R-squared value test set value: 0.6519229498968853\n"
     ]
    }
   ],
   "source": [
    "X = beer_df.loc[:, feature_cols]\n",
    "X.loc[:, 'Interaction'] = X.loc[:, 'Average_Temp'] * X.loc[:, 'Month']\n",
    "\n",
    "rfr_grid = GridSearchCV(RandomForestRegressor(n_estimators=310), param_grid={}, cv=kf, return_train_score=True)\n",
    "rfr_grid.fit(X, y)\n",
    "print('R-squared training set value:', rfr_grid.cv_results_['mean_train_score'][0])\n",
    "print('R-squared value test set value:', rfr_grid.cv_results_['mean_test_score'][0])"
   ]
  },
  {
   "cell_type": "markdown",
   "metadata": {},
   "source": [
    "This did not help the random forest regressor score."
   ]
  },
  {
   "cell_type": "code",
   "execution_count": 39,
   "metadata": {},
   "outputs": [
    {
     "name": "stdout",
     "output_type": "stream",
     "text": [
      "R-squared training set value: 0.7328649405748786\n",
      "R-squared value test set value: 0.7138610917983159\n"
     ]
    }
   ],
   "source": [
    "# Try interaction term with linear regression\n",
    "\n",
    "X = beer_df.loc[:, feature_cols]\n",
    "X.loc[:, 'Interaction'] = X.loc[:, 'Average_Temp'] * X.loc[:, 'Month']\n",
    "\n",
    "lr_grid = GridSearchCV(LinearRegression(), param_grid={}, cv=kf, return_train_score=True)\n",
    "lr_grid.fit(X, y)\n",
    "print('R-squared training set value:', lr_grid.cv_results_['mean_train_score'][0])\n",
    "print('R-squared value test set value:', lr_grid.cv_results_['mean_test_score'][0])"
   ]
  },
  {
   "cell_type": "code",
   "execution_count": 119,
   "metadata": {},
   "outputs": [],
   "source": [
    "# Add season as a feature column\n",
    "# Assume every 3 months is a new season \n",
    "# Seasons are opposite to what they are in North America (Brazil is in the Southern hemisphere)\n",
    "    \n",
    "beer_df.loc[(beer_df.Month == 12) | (beer_df.Month == 1) | (beer_df.Month == 2), 'Season'] = 'Summer'\n",
    "beer_df.loc[(beer_df.Month == 3) | (beer_df.Month == 4) | (beer_df.Month == 5), 'Season'] = 'Fall'\n",
    "beer_df.loc[(beer_df.Month == 6) | (beer_df.Month == 7) | (beer_df.Month == 8), 'Season'] = 'Winter'\n",
    "beer_df.loc[(beer_df.Month == 9) | (beer_df.Month == 10) | (beer_df.Month == 11), 'Season'] = 'Spring'"
   ]
  },
  {
   "cell_type": "code",
   "execution_count": 120,
   "metadata": {},
   "outputs": [
    {
     "data": {
      "text/html": [
       "<div>\n",
       "<style scoped>\n",
       "    .dataframe tbody tr th:only-of-type {\n",
       "        vertical-align: middle;\n",
       "    }\n",
       "\n",
       "    .dataframe tbody tr th {\n",
       "        vertical-align: top;\n",
       "    }\n",
       "\n",
       "    .dataframe thead th {\n",
       "        text-align: right;\n",
       "    }\n",
       "</style>\n",
       "<table border=\"1\" class=\"dataframe\">\n",
       "  <thead>\n",
       "    <tr style=\"text-align: right;\">\n",
       "      <th></th>\n",
       "      <th>Date</th>\n",
       "      <th>Average_Temp</th>\n",
       "      <th>Min_Temp</th>\n",
       "      <th>Max_Temp</th>\n",
       "      <th>Precipitation</th>\n",
       "      <th>Weekend</th>\n",
       "      <th>Beer_Consumption</th>\n",
       "      <th>Month</th>\n",
       "      <th>Season</th>\n",
       "    </tr>\n",
       "  </thead>\n",
       "  <tbody>\n",
       "    <tr>\n",
       "      <th>0</th>\n",
       "      <td>1/1/15</td>\n",
       "      <td>27.30</td>\n",
       "      <td>23.9</td>\n",
       "      <td>32.5</td>\n",
       "      <td>0.0</td>\n",
       "      <td>0</td>\n",
       "      <td>25.461</td>\n",
       "      <td>1</td>\n",
       "      <td>Summer</td>\n",
       "    </tr>\n",
       "    <tr>\n",
       "      <th>1</th>\n",
       "      <td>1/2/15</td>\n",
       "      <td>27.02</td>\n",
       "      <td>24.5</td>\n",
       "      <td>33.5</td>\n",
       "      <td>0.0</td>\n",
       "      <td>0</td>\n",
       "      <td>28.972</td>\n",
       "      <td>1</td>\n",
       "      <td>Summer</td>\n",
       "    </tr>\n",
       "    <tr>\n",
       "      <th>2</th>\n",
       "      <td>1/3/15</td>\n",
       "      <td>24.82</td>\n",
       "      <td>22.4</td>\n",
       "      <td>29.9</td>\n",
       "      <td>0.0</td>\n",
       "      <td>1</td>\n",
       "      <td>30.814</td>\n",
       "      <td>1</td>\n",
       "      <td>Summer</td>\n",
       "    </tr>\n",
       "    <tr>\n",
       "      <th>3</th>\n",
       "      <td>1/4/15</td>\n",
       "      <td>23.98</td>\n",
       "      <td>21.5</td>\n",
       "      <td>28.6</td>\n",
       "      <td>1.2</td>\n",
       "      <td>1</td>\n",
       "      <td>29.799</td>\n",
       "      <td>1</td>\n",
       "      <td>Summer</td>\n",
       "    </tr>\n",
       "    <tr>\n",
       "      <th>4</th>\n",
       "      <td>1/5/15</td>\n",
       "      <td>23.82</td>\n",
       "      <td>21.0</td>\n",
       "      <td>28.3</td>\n",
       "      <td>0.0</td>\n",
       "      <td>0</td>\n",
       "      <td>28.900</td>\n",
       "      <td>1</td>\n",
       "      <td>Summer</td>\n",
       "    </tr>\n",
       "  </tbody>\n",
       "</table>\n",
       "</div>"
      ],
      "text/plain": [
       "     Date  Average_Temp  Min_Temp  Max_Temp  Precipitation  Weekend  \\\n",
       "0  1/1/15         27.30      23.9      32.5            0.0        0   \n",
       "1  1/2/15         27.02      24.5      33.5            0.0        0   \n",
       "2  1/3/15         24.82      22.4      29.9            0.0        1   \n",
       "3  1/4/15         23.98      21.5      28.6            1.2        1   \n",
       "4  1/5/15         23.82      21.0      28.3            0.0        0   \n",
       "\n",
       "   Beer_Consumption  Month  Season  \n",
       "0            25.461      1  Summer  \n",
       "1            28.972      1  Summer  \n",
       "2            30.814      1  Summer  \n",
       "3            29.799      1  Summer  \n",
       "4            28.900      1  Summer  "
      ]
     },
     "execution_count": 120,
     "metadata": {},
     "output_type": "execute_result"
    }
   ],
   "source": [
    "beer_df.head()"
   ]
  },
  {
   "cell_type": "code",
   "execution_count": 121,
   "metadata": {},
   "outputs": [],
   "source": [
    "# Encode categorical variables as integers.\n",
    "beer_df = pd.get_dummies(beer_df, columns=['Season'], drop_first=True)"
   ]
  },
  {
   "cell_type": "code",
   "execution_count": 123,
   "metadata": {},
   "outputs": [
    {
     "data": {
      "text/html": [
       "<div>\n",
       "<style scoped>\n",
       "    .dataframe tbody tr th:only-of-type {\n",
       "        vertical-align: middle;\n",
       "    }\n",
       "\n",
       "    .dataframe tbody tr th {\n",
       "        vertical-align: top;\n",
       "    }\n",
       "\n",
       "    .dataframe thead th {\n",
       "        text-align: right;\n",
       "    }\n",
       "</style>\n",
       "<table border=\"1\" class=\"dataframe\">\n",
       "  <thead>\n",
       "    <tr style=\"text-align: right;\">\n",
       "      <th></th>\n",
       "      <th>Date</th>\n",
       "      <th>Average_Temp</th>\n",
       "      <th>Min_Temp</th>\n",
       "      <th>Max_Temp</th>\n",
       "      <th>Precipitation</th>\n",
       "      <th>Weekend</th>\n",
       "      <th>Beer_Consumption</th>\n",
       "      <th>Month</th>\n",
       "      <th>Season_Spring</th>\n",
       "      <th>Season_Summer</th>\n",
       "      <th>Season_Winter</th>\n",
       "    </tr>\n",
       "  </thead>\n",
       "  <tbody>\n",
       "    <tr>\n",
       "      <th>0</th>\n",
       "      <td>1/1/15</td>\n",
       "      <td>27.30</td>\n",
       "      <td>23.9</td>\n",
       "      <td>32.5</td>\n",
       "      <td>0.0</td>\n",
       "      <td>0</td>\n",
       "      <td>25.461</td>\n",
       "      <td>1</td>\n",
       "      <td>0</td>\n",
       "      <td>1</td>\n",
       "      <td>0</td>\n",
       "    </tr>\n",
       "    <tr>\n",
       "      <th>1</th>\n",
       "      <td>1/2/15</td>\n",
       "      <td>27.02</td>\n",
       "      <td>24.5</td>\n",
       "      <td>33.5</td>\n",
       "      <td>0.0</td>\n",
       "      <td>0</td>\n",
       "      <td>28.972</td>\n",
       "      <td>1</td>\n",
       "      <td>0</td>\n",
       "      <td>1</td>\n",
       "      <td>0</td>\n",
       "    </tr>\n",
       "    <tr>\n",
       "      <th>2</th>\n",
       "      <td>1/3/15</td>\n",
       "      <td>24.82</td>\n",
       "      <td>22.4</td>\n",
       "      <td>29.9</td>\n",
       "      <td>0.0</td>\n",
       "      <td>1</td>\n",
       "      <td>30.814</td>\n",
       "      <td>1</td>\n",
       "      <td>0</td>\n",
       "      <td>1</td>\n",
       "      <td>0</td>\n",
       "    </tr>\n",
       "    <tr>\n",
       "      <th>3</th>\n",
       "      <td>1/4/15</td>\n",
       "      <td>23.98</td>\n",
       "      <td>21.5</td>\n",
       "      <td>28.6</td>\n",
       "      <td>1.2</td>\n",
       "      <td>1</td>\n",
       "      <td>29.799</td>\n",
       "      <td>1</td>\n",
       "      <td>0</td>\n",
       "      <td>1</td>\n",
       "      <td>0</td>\n",
       "    </tr>\n",
       "    <tr>\n",
       "      <th>4</th>\n",
       "      <td>1/5/15</td>\n",
       "      <td>23.82</td>\n",
       "      <td>21.0</td>\n",
       "      <td>28.3</td>\n",
       "      <td>0.0</td>\n",
       "      <td>0</td>\n",
       "      <td>28.900</td>\n",
       "      <td>1</td>\n",
       "      <td>0</td>\n",
       "      <td>1</td>\n",
       "      <td>0</td>\n",
       "    </tr>\n",
       "  </tbody>\n",
       "</table>\n",
       "</div>"
      ],
      "text/plain": [
       "     Date  Average_Temp  Min_Temp  Max_Temp  Precipitation  Weekend  \\\n",
       "0  1/1/15         27.30      23.9      32.5            0.0        0   \n",
       "1  1/2/15         27.02      24.5      33.5            0.0        0   \n",
       "2  1/3/15         24.82      22.4      29.9            0.0        1   \n",
       "3  1/4/15         23.98      21.5      28.6            1.2        1   \n",
       "4  1/5/15         23.82      21.0      28.3            0.0        0   \n",
       "\n",
       "   Beer_Consumption  Month  Season_Spring  Season_Summer  Season_Winter  \n",
       "0            25.461      1              0              1              0  \n",
       "1            28.972      1              0              1              0  \n",
       "2            30.814      1              0              1              0  \n",
       "3            29.799      1              0              1              0  \n",
       "4            28.900      1              0              1              0  "
      ]
     },
     "execution_count": 123,
     "metadata": {},
     "output_type": "execute_result"
    }
   ],
   "source": [
    "beer_df.head()"
   ]
  },
  {
   "cell_type": "code",
   "execution_count": 122,
   "metadata": {},
   "outputs": [],
   "source": [
    "# Try training with new feature columns\n",
    "target_col = 'Beer_Consumption'\n",
    "feature_cols = ['Average_Temp', 'Min_Temp', 'Max_Temp', 'Precipitation', 'Weekend', 'Month', 'Season_Spring', 'Season_Summer', 'Season_Winter']\n",
    "\n",
    "X = beer_df.loc[:, feature_cols]\n",
    "y = beer_df.loc[:, target_col]"
   ]
  },
  {
   "cell_type": "code",
   "execution_count": 43,
   "metadata": {},
   "outputs": [],
   "source": [
    "# Run train test split\n",
    "\n",
    "X_train, X_test, y_train, y_test = train_test_split(X, y, random_state=1)"
   ]
  },
  {
   "cell_type": "code",
   "execution_count": 44,
   "metadata": {},
   "outputs": [
    {
     "name": "stdout",
     "output_type": "stream",
     "text": [
      "R-squared value test set value: 0.7244840999499342\n",
      "R-squared training set value: 0.7309446756516356\n"
     ]
    }
   ],
   "source": [
    "lr = LinearRegression()\n",
    "\n",
    "lr.fit(X_train, y_train)\n",
    "\n",
    "# Find R-Squared value\n",
    "print('R-squared value test set value:', lr.score(X_test, y_test))\n",
    "\n",
    "# Compare R-squared value to training set\n",
    "print('R-squared training set value:', lr.score(X_train, y_train))"
   ]
  },
  {
   "cell_type": "code",
   "execution_count": 45,
   "metadata": {},
   "outputs": [
    {
     "name": "stdout",
     "output_type": "stream",
     "text": [
      "R-squared training set value: 1.0\n",
      "R-squared value test set value: 0.4972765848220117\n"
     ]
    }
   ],
   "source": [
    "dtr = DecisionTreeRegressor()\n",
    "dtr.fit(X_train, y_train)\n",
    "print('R-squared training set value:', dtr.score(X_train, y_train))\n",
    "print('R-squared value test set value:', dtr.score(X_test, y_test))"
   ]
  },
  {
   "cell_type": "code",
   "execution_count": 46,
   "metadata": {},
   "outputs": [
    {
     "name": "stdout",
     "output_type": "stream",
     "text": [
      "R-squared training set value: 0.9495067642328079\n",
      "R-squared value test set value: 0.700055882706168\n"
     ]
    }
   ],
   "source": [
    "rfr = RandomForestRegressor(n_estimators=310)\n",
    "rfr.fit(X_train, y_train)\n",
    "print('R-squared training set value:', rfr.score(X_train, y_train))\n",
    "print('R-squared value test set value:', rfr.score(X_test, y_test))"
   ]
  },
  {
   "cell_type": "markdown",
   "metadata": {},
   "source": [
    "Introducing season as a feature column has decreased variance."
   ]
  },
  {
   "cell_type": "code",
   "execution_count": 47,
   "metadata": {},
   "outputs": [
    {
     "name": "stdout",
     "output_type": "stream",
     "text": [
      "R-squared value test set value: 0.7395385462015329\n",
      "R-squared training set value: 0.7290884224987844\n"
     ]
    }
   ],
   "source": [
    "# See with interaction term\n",
    "\n",
    "# Try interaction term with linear regression\n",
    "\n",
    "X = beer_df.loc[:, feature_cols]\n",
    "X.loc[:, 'Interaction'] = X.loc[:, 'Max_Temp'] * X.loc[:, 'Season_Summer']\n",
    "\n",
    "X_train, X_test, y_train, y_test = train_test_split(X, y, random_state=1)\n",
    "lr = LinearRegression()\n",
    "lr.fit(X, y)\n",
    "\n",
    "# Find R-Squared value\n",
    "print('R-squared value test set value:', lr.score(X_test, y_test))\n",
    "\n",
    "# Compare R-squared value to training set\n",
    "print('R-squared training set value:', lr.score(X_train, y_train))"
   ]
  },
  {
   "cell_type": "code",
   "execution_count": 48,
   "metadata": {},
   "outputs": [
    {
     "name": "stdout",
     "output_type": "stream",
     "text": [
      "R-squared training set value: 1.0\n",
      "R-squared value test set value: 0.4820759106231798\n"
     ]
    }
   ],
   "source": [
    "dtr = DecisionTreeRegressor()\n",
    "dtr.fit(X_train, y_train)\n",
    "print('R-squared training set value:', dtr.score(X_train, y_train))\n",
    "print('R-squared value test set value:', dtr.score(X_test, y_test))"
   ]
  },
  {
   "cell_type": "code",
   "execution_count": 49,
   "metadata": {},
   "outputs": [
    {
     "name": "stdout",
     "output_type": "stream",
     "text": [
      "R-squared training set value: 0.9504355031323304\n",
      "R-squared value test set value: 0.6965642030985018\n"
     ]
    }
   ],
   "source": [
    "rfr = RandomForestRegressor(n_estimators=310)\n",
    "rfr.fit(X_train, y_train)\n",
    "print('R-squared training set value:', rfr.score(X_train, y_train))\n",
    "print('R-squared value test set value:', rfr.score(X_test, y_test))"
   ]
  },
  {
   "cell_type": "markdown",
   "metadata": {},
   "source": [
    "Adding an interaction term does not better the score."
   ]
  },
  {
   "cell_type": "code",
   "execution_count": 72,
   "metadata": {},
   "outputs": [],
   "source": [
    "# Try removing some of the feature columns again\n",
    "\n",
    "target_col = 'Beer_Consumption'\n",
    "X = beer_df.drop(['Date', 'Beer_Consumption', 'Month'], axis='columns')\n",
    "y = beer_df.loc[:, target_col]\n",
    "\n",
    "X_train, X_test, y_train, y_test = train_test_split(X,y, random_state=1)"
   ]
  },
  {
   "cell_type": "code",
   "execution_count": 73,
   "metadata": {},
   "outputs": [
    {
     "name": "stdout",
     "output_type": "stream",
     "text": [
      "R-squared value test set value: 0.7353378722309503\n",
      "R-squared training set value: 0.7257400622341764\n"
     ]
    }
   ],
   "source": [
    "lr = LinearRegression()\n",
    "lr.fit(X, y)\n",
    "\n",
    "# Find R-Squared value\n",
    "print('R-squared value test set value:', lr.score(X_test, y_test))\n",
    "\n",
    "# Compare R-squared value to training set\n",
    "print('R-squared training set value:', lr.score(X_train, y_train))"
   ]
  },
  {
   "cell_type": "code",
   "execution_count": 80,
   "metadata": {},
   "outputs": [
    {
     "name": "stdout",
     "output_type": "stream",
     "text": [
      "R-squared training set value: 1.0\n",
      "R-squared value test set value: 0.5124822970150619\n"
     ]
    }
   ],
   "source": [
    "dtr = DecisionTreeRegressor()\n",
    "dtr.fit(X_train, y_train)\n",
    "print('R-squared training set value:', dtr.score(X_train, y_train))\n",
    "print('R-squared value test set value:', dtr.score(X_test, y_test))"
   ]
  },
  {
   "cell_type": "code",
   "execution_count": 71,
   "metadata": {},
   "outputs": [
    {
     "name": "stdout",
     "output_type": "stream",
     "text": [
      "R-squared training set value: 0.9514777881245674\n",
      "R-squared value test set value: 0.6232257863092052\n"
     ]
    }
   ],
   "source": [
    "rfr = RandomForestRegressor(n_estimators=310)\n",
    "rfr.fit(X_train, y_train)\n",
    "print('R-squared training set value:', rfr.score(X_train, y_train))\n",
    "print('R-squared value test set value:', rfr.score(X_test, y_test))"
   ]
  },
  {
   "cell_type": "markdown",
   "metadata": {},
   "source": [
    "Removing month decreses variance in the decision tree model."
   ]
  },
  {
   "cell_type": "code",
   "execution_count": 124,
   "metadata": {},
   "outputs": [],
   "source": [
    "# Try removing some of the feature columns again\n",
    "\n",
    "target_col = 'Beer_Consumption'\n",
    "X = beer_df.drop(['Date', 'Beer_Consumption', 'Month', 'Min_Temp', 'Season_Spring'], axis='columns')\n",
    "y = beer_df.loc[:, target_col]\n",
    "\n",
    "X_train, X_test, y_train, y_test = train_test_split(X,y)"
   ]
  },
  {
   "cell_type": "code",
   "execution_count": 125,
   "metadata": {},
   "outputs": [
    {
     "name": "stdout",
     "output_type": "stream",
     "text": [
      "R-squared value test set value: 0.7073586450158958\n",
      "R-squared training set value: 0.7264968603224091\n"
     ]
    }
   ],
   "source": [
    "lr = LinearRegression()\n",
    "lr.fit(X, y)\n",
    "\n",
    "# Find R-Squared value\n",
    "print('R-squared value test set value:', lr.score(X_test, y_test))\n",
    "\n",
    "# Compare R-squared value to training set\n",
    "print('R-squared training set value:', lr.score(X_train, y_train))"
   ]
  },
  {
   "cell_type": "code",
   "execution_count": 126,
   "metadata": {},
   "outputs": [
    {
     "name": "stdout",
     "output_type": "stream",
     "text": [
      "R-squared training set value: 1.0\n",
      "R-squared value test set value: 0.359875935936363\n"
     ]
    }
   ],
   "source": [
    "dtr = DecisionTreeRegressor()\n",
    "dtr.fit(X_train, y_train)\n",
    "print('R-squared training set value:', dtr.score(X_train, y_train))\n",
    "print('R-squared value test set value:', dtr.score(X_test, y_test))"
   ]
  },
  {
   "cell_type": "code",
   "execution_count": 127,
   "metadata": {},
   "outputs": [
    {
     "name": "stdout",
     "output_type": "stream",
     "text": [
      "R-squared training set value: 0.9538990524241726\n",
      "R-squared value test set value: 0.6099853928405279\n"
     ]
    }
   ],
   "source": [
    "rfr = RandomForestRegressor(n_estimators=310)\n",
    "rfr.fit(X_train, y_train)\n",
    "print('R-squared training set value:', rfr.score(X_train, y_train))\n",
    "print('R-squared value test set value:', rfr.score(X_test, y_test))"
   ]
  },
  {
   "cell_type": "markdown",
   "metadata": {},
   "source": [
    "This did not better the score or decrease bias or variance."
   ]
  },
  {
   "cell_type": "code",
   "execution_count": null,
   "metadata": {},
   "outputs": [],
   "source": []
  }
 ],
 "metadata": {
  "kernelspec": {
   "display_name": "Python 3",
   "language": "python",
   "name": "python3"
  },
  "language_info": {
   "codemirror_mode": {
    "name": "ipython",
    "version": 3
   },
   "file_extension": ".py",
   "mimetype": "text/x-python",
   "name": "python",
   "nbconvert_exporter": "python",
   "pygments_lexer": "ipython3",
   "version": "3.7.3"
  }
 },
 "nbformat": 4,
 "nbformat_minor": 2
}
